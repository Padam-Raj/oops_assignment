{
 "cells": [
  {
   "cell_type": "markdown",
   "id": "64506306-04d8-4184-b562-398da1ef1408",
   "metadata": {},
   "source": [
    "Python OOPS Questions"
   ]
  },
  {
   "cell_type": "markdown",
   "id": "73f48f51-c4de-49d4-bb33-315e587275d0",
   "metadata": {},
   "source": [
    "Ques 1- What is Object-Oriented Programming(OOPS)?"
   ]
  },
  {
   "cell_type": "code",
   "execution_count": null,
   "id": "c0e90708-760a-42c1-9024-7ebf9b7414cd",
   "metadata": {},
   "outputs": [],
   "source": [
    "\"\"\"\n",
    "Object-oriented programming is a programming paradigm based on the concept of \"Object\", which can contain data and code that manipulated that data.\n",
    "Key Concepts of OOP- Classes and Objects, Encapsulation, Inheritance, Polymorphism, Abstraction\n",
    "\"\"\""
   ]
  },
  {
   "cell_type": "markdown",
   "id": "eb7ff2f7-0495-4d5d-900a-cbeab269154b",
   "metadata": {},
   "source": [
    "Ques 2- What is a class in OOP?"
   ]
  },
  {
   "cell_type": "code",
   "execution_count": null,
   "id": "071a52fc-3105-41b6-8755-db71bc118b80",
   "metadata": {},
   "outputs": [],
   "source": [
    "\"\"\"\n",
    "A Class in Object-Oriented Programming(OOP) is a blueprint or template for creating objects.\n",
    "It defines-\n",
    "->The data(called attributes or properties) that the objects will have.\n",
    "->The behavior(called methods or functions) that objects can perform\n",
    "\"\"\""
   ]
  },
  {
   "cell_type": "markdown",
   "id": "71586e5c-e194-41ce-92bf-48843f480b8f",
   "metadata": {},
   "source": [
    "Ques 3- What is an object in OOP?"
   ]
  },
  {
   "cell_type": "code",
   "execution_count": null,
   "id": "ef8a699b-8945-468c-aa28-bd96aa178565",
   "metadata": {},
   "outputs": [],
   "source": [
    "\"\"\"\n",
    "An object is a real-world entity that has:\n",
    "-> Attributes(also called properties ot fields)- what it has\n",
    "-> Methods(also called functions)- what it can do.\n",
    "\"\"\""
   ]
  },
  {
   "cell_type": "markdown",
   "id": "1412644b-585a-44de-891e-8a7b88e18ee6",
   "metadata": {},
   "source": [
    "Ques 4- What is the difference between abstraction and encapsulation?"
   ]
  },
  {
   "cell_type": "code",
   "execution_count": null,
   "id": "cb6e3dc6-0d4e-4324-b6fe-de81acd75c10",
   "metadata": {},
   "outputs": [],
   "source": [
    "\"\"\"\n",
    "Abstraction means hiding the complex implementation details and showing only the essential features of an object.\n",
    "\n",
    "Encapsulation means bundling the data (attributes) and methods that operate on the data into a single unit(class), \n",
    "and restricting access to some of the object's internal components.\n",
    "\"\"\""
   ]
  },
  {
   "cell_type": "markdown",
   "id": "1c0c9c79-62be-4431-9d68-89cf6fc2d3fc",
   "metadata": {},
   "source": [
    "Ques 5- What are dunder method in python?"
   ]
  },
  {
   "cell_type": "code",
   "execution_count": null,
   "id": "b22531fc-cbec-4714-8f32-1fdc122556b2",
   "metadata": {},
   "outputs": [],
   "source": [
    "\"\"\"\n",
    "In python,\"under methods\" usually refer to special methods that start and end with double underscores, like __init__, __str__, __len__, etc called \n",
    "Dunder method(double underscore), Magic methods, Special methods.\n",
    "They let you define how objects of your class behave with built-in Python functions and operators.\n",
    "\"\"\""
   ]
  },
  {
   "cell_type": "markdown",
   "id": "6fd6b563-068f-41ae-81b9-ad4d93e1bcdc",
   "metadata": {},
   "source": [
    "Ques 6- Explain the concept of inheritance in OOP."
   ]
  },
  {
   "cell_type": "code",
   "execution_count": null,
   "id": "9809ad71-d1b1-4c45-a9d2-24b2b9a0cda7",
   "metadata": {},
   "outputs": [],
   "source": [
    "\"\"\"\n",
    "Inheritance is a feature in OOP that allows a class(child class) to reuse the properties and methods of another class(parent class).\n",
    "It helps with-\n",
    "-> Code reusability- you don't have to rewrite common code.\n",
    "-> Hierarchy- you can build relationships between classes(like \"is a\" relationships).\n",
    "\"\"\""
   ]
  },
  {
   "cell_type": "markdown",
   "id": "279e71ac-65b0-4b63-ad56-83aa7331efec",
   "metadata": {},
   "source": [
    "Ques 7- What is polymorphism in OOP?"
   ]
  },
  {
   "cell_type": "code",
   "execution_count": 2,
   "id": "e89afc2e-4e8f-43de-b289-109281c88347",
   "metadata": {},
   "outputs": [],
   "source": [
    "\"\"\"\n",
    "Polymorphism means \"many forms\". In Object-Oriented Programming(OOP), it allows objects of different classes to be trated through a common interface, \n",
    "usually a shared method name, even though they behave differently.\n",
    "\n",
    "-> It makes code more flexible and easier to extend.\n",
    "-> You can write general code that works with many types of objects.\n",
    "\"\"\""
   ]
  },
  {
   "cell_type": "markdown",
   "id": "018ddcbd-46a9-4573-af49-be4b2bc67e0b",
   "metadata": {},
   "source": [
    "Ques 8- How is encapsulation achieved in Python?"
   ]
  },
  {
   "cell_type": "code",
   "execution_count": 4,
   "id": "87895eb4-6a0e-42cf-8c87-cfe2fc4d48d6",
   "metadata": {},
   "outputs": [],
   "source": [
    "\"\"\"\n",
    "Encapsulation is the concept of hiding internal data and restricting direct access to it, exposing only what's necessary. In Python, this is mainly\n",
    "achieved using:\n",
    "Classes\n",
    "Access modifiers(through naming conventions)\n",
    "Gerrer and Setter methods(to control access)\n",
    "\"\"\"\n"
   ]
  },
  {
   "cell_type": "markdown",
   "id": "bb03c714-9fc8-41cc-8086-d4f68cf1ba49",
   "metadata": {},
   "source": [
    "Ques 9- What is a constructor in Python?"
   ]
  },
  {
   "cell_type": "code",
   "execution_count": 6,
   "id": "c2d1143c-42cf-4dd9-94f1-30cf688d691c",
   "metadata": {},
   "outputs": [],
   "source": [
    "\"\"\"\n",
    "In Python, a constructor is a special method used to initialize an object when it is created. \n",
    "The constructor method in Python is called:\n",
    "__init__()\n",
    "\n",
    "\"\"\""
   ]
  },
  {
   "cell_type": "markdown",
   "id": "cfece9f7-5e7d-4a91-b3f9-8573d3ae0415",
   "metadata": {},
   "source": [
    "Ques 10- What are class and static methods in Python?"
   ]
  },
  {
   "cell_type": "code",
   "execution_count": 8,
   "id": "1f2866c3-25b7-40ad-be31-15469eeb8675",
   "metadata": {},
   "outputs": [],
   "source": [
    "\"\"\"\n",
    "Both class methods and static methods are used when you don't need to access instance-level data(self), but they have different purposes and behaviors.\n",
    "\n",
    "Class Methods-\n",
    "-> belong to the class, not the instance\n",
    "-> can access and modify class-level data\n",
    "-> use the @classmethod decorator\n",
    "-> the parameter is cls (refers to the class itself)\n",
    "\n",
    "Static Methods-\n",
    "-> belong to the class, but do not access class or instance data.\n",
    "-> use the @staticmethod decorator\n",
    "->just a regular function inside a class- used for utility/helper functions.\n",
    "\"\"\""
   ]
  },
  {
   "cell_type": "markdown",
   "id": "8cad8de9-fc74-48dc-840b-131f2db127e6",
   "metadata": {},
   "source": [
    "Ques 11- What is method overloading in Python?"
   ]
  },
  {
   "cell_type": "code",
   "execution_count": 10,
   "id": "6a845600-f1d5-423e-abd0-46df6ee06208",
   "metadata": {},
   "outputs": [],
   "source": [
    "\"\"\"\n",
    "Method Overloading is the ability to create multiple methods in the same class with the same name but different parameters(different type or number \n",
    "of arguments).\n",
    "However, python does not support traditional method overloading like some other languages. if you define multiple methods with the same name in a class, \n",
    "the last one overwrites the previous ones.\n",
    "\"\"\""
   ]
  },
  {
   "cell_type": "markdown",
   "id": "f9ea9e67-8092-415b-aa66-57b099f9f4e4",
   "metadata": {},
   "source": [
    "Ques 12- What is method overriding in OOP?"
   ]
  },
  {
   "cell_type": "code",
   "execution_count": null,
   "id": "de4c2666-5eef-4faa-9dbb-20d155e01386",
   "metadata": {},
   "outputs": [],
   "source": [
    "\"\"\"\n",
    "Method overriding is an OOP feature where a child(subclass) provides a new implementation of a method that is already defined in its parant (superclass).\n",
    "The method in the child class has the same name, parameters, and return type as in the parent.\n",
    "It is used to provide specific behavior for the subclass.\n",
    "It supports runtime polymorphism- the method that gets called is determined at runtime based on the object.\n",
    "\"\"\""
   ]
  },
  {
   "cell_type": "markdown",
   "id": "aebcbe2c-88cb-4060-b580-59e774cece19",
   "metadata": {},
   "source": [
    "Ques 13- What is a property decorator in  Python?"
   ]
  },
  {
   "cell_type": "code",
   "execution_count": null,
   "id": "4c60766a-1051-4a65-92b9-ad1043c2e2fb",
   "metadata": {},
   "outputs": [],
   "source": [
    "\"\"\"\n",
    "The @property decorator in Python is used to create getter methods that allow you to access a method like an attribute, while still hiding internal\n",
    "logic or validation.\n",
    "\n",
    "@property helps you encapsulate your class's internal data.\n",
    "you can control access to attributes(eg add validation)\n",
    "you can keep your interface clean- the object look like it uses simple attributes.\n",
    "\"\"\""
   ]
  },
  {
   "cell_type": "markdown",
   "id": "a447c148-d8ec-42f4-b410-964d1a922611",
   "metadata": {},
   "source": [
    "Ques 14- Why is polymorphism important in OOP?"
   ]
  },
  {
   "cell_type": "code",
   "execution_count": null,
   "id": "64ceea05-c2e4-44ef-84ad-5206a5222a2a",
   "metadata": {},
   "outputs": [],
   "source": [
    "\"\"\"\n",
    "Polymorphism is important in OOP because it allows objects of different classes to be treated as objects of a common superclass, enabling flexibily, \n",
    "reusability, and scalability in your code.\n",
    "\n",
    "1. Code flexibility and extensibility-\n",
    "With polymorphism,you can write general-purpose code that works with different object types-as long as they share a common method name or inteface.\n",
    "\n",
    "2. Promotes Interface-based design-\n",
    "Polymorphism lets you program against interface, not specific implementations.  This means-\n",
    "you can change or add new classes without touching the existing logic\n",
    "your code is easier to maintain and extend.\n",
    "\n",
    "3.Reduces Code Duplication-\n",
    "You can avoid writing repetitive if/else or switch statements for handling different object types.\n",
    "\n",
    "4. Enables Plug-and-Play Design-\n",
    "You can replace one subclass with another without modifying the existing code-as long as both support the same interface or method.\n",
    "\"\"\""
   ]
  },
  {
   "cell_type": "markdown",
   "id": "074e181c-db90-48c0-bb14-52219d841c63",
   "metadata": {},
   "source": [
    "Ques 15- What is an abstract class in Python?"
   ]
  },
  {
   "cell_type": "code",
   "execution_count": null,
   "id": "49358208-58bd-49e3-82cd-1aaf7e87e7b5",
   "metadata": {},
   "outputs": [],
   "source": [
    "\"\"\"\n",
    "An abstract class in python is a class that cannot be instantiated directly- it is meant to be inherited by other classes.\n",
    "It is used to define a common interface or blueprint for all subclasses, ensuring that certain methods must be implemented in those subclasses.\n",
    "Abstract class are used-\n",
    "to define common behavior across multiple classes.\n",
    "to enforce structures in subclasses\n",
    "useful in large applications to maintain consistency.\n",
    "\"\"\""
   ]
  },
  {
   "cell_type": "markdown",
   "id": "6642745a-ed93-4b4b-8a03-99755a96de76",
   "metadata": {},
   "source": [
    "Ques 16- What are the advantages of OOP?"
   ]
  },
  {
   "cell_type": "code",
   "execution_count": null,
   "id": "0a908967-6e56-4209-a66c-fe1ebc7ab95a",
   "metadata": {},
   "outputs": [],
   "source": [
    "\"\"\"\n",
    "OOP offers a powerful way to structure and manage complex software by modeling it after real-world entities. \n",
    "Advantages of OOP-\n",
    "Modularity, Reusability, Encapsulation, Inheritance, Polymorphism, Easy Maintenance and Upgrades, Real-world modeling, Improved Testing and \n",
    "debugging\n",
    "\"\"\""
   ]
  },
  {
   "cell_type": "markdown",
   "id": "76b74beb-7208-4501-9b25-b10ef59e27df",
   "metadata": {},
   "source": [
    "Ques 17- What is the difference between a class variable and a instance variable?"
   ]
  },
  {
   "cell_type": "code",
   "execution_count": 12,
   "id": "14be9d01-f2aa-4156-a762-91fbf7aced31",
   "metadata": {},
   "outputs": [],
   "source": [
    "\"\"\"\n",
    "Class Variable-\n",
    "->shared by all instances of a class\n",
    "->belongs to the class itself, not individual objects\n",
    "->typically used fore  constants or shared data.\n",
    "\n",
    "Instance Variable-\n",
    "->unique to each object(instance) of the class.\n",
    "->defined using self.variable_name inside methods(typically __init__).\n",
    "->stores individual object data.\n",
    "\"\"\""
   ]
  },
  {
   "cell_type": "markdown",
   "id": "3ce3614b-4a4b-4638-be22-85bfccaaa1e8",
   "metadata": {},
   "source": [
    "Ques 18- What is multiple inheritance in Python?"
   ]
  },
  {
   "cell_type": "code",
   "execution_count": null,
   "id": "afa48233-821c-405a-aa3f-dc7f848b7f4a",
   "metadata": {},
   "outputs": [],
   "source": [
    "\"\"\"\n",
    "Multiple inheritance is a features in Python where a class can inherit from more than one parent class. This allows the child class to access\n",
    "attributes and methods from all its parent classes.\n",
    "\"\"\""
   ]
  },
  {
   "cell_type": "markdown",
   "id": "0dbc9c0e-f4a1-448d-bc47-92810a94d4ea",
   "metadata": {},
   "source": [
    "Ques 19- Explain the purpose of \"__str__\" and \"__repr__\" methods in Python."
   ]
  },
  {
   "cell_type": "code",
   "execution_count": null,
   "id": "9731ef9f-3322-4aaa-80ae-94b840f5f6c5",
   "metadata": {},
   "outputs": [],
   "source": [
    "\"\"\"\n",
    "In python, __str__ and __repr__ are special(dunder) methods used to define how objects are represented as strings- but they serve different purposes. \n",
    "__str__\n",
    "used by the print() function and str() to return a readable, nicely formatted string.\n",
    "Its meant for end users.\n",
    "\n",
    "__repr__\n",
    "used by the repr() function or in the python shell/console\n",
    "meant for debugging and development\n",
    "should return a valid puthon expression if possible, or at least something unambiguous.\n",
    "\"\"\""
   ]
  },
  {
   "cell_type": "markdown",
   "id": "4ac2cdc7-ae24-4414-a710-38b532ffa38a",
   "metadata": {},
   "source": [
    "Ques 20- What is the significance of the \"super()\" function  in  Python?"
   ]
  },
  {
   "cell_type": "code",
   "execution_count": null,
   "id": "aac3ba43-47df-40dd-8bfa-4141c9fc3af2",
   "metadata": {},
   "outputs": [],
   "source": [
    "\"\"\"\n",
    "The super() function in python is used to call methods from a parent(super) class inside a child(subclass). Its especially useful in inheritance.\n",
    "Reuse Parent Class Code\n",
    "Call the Parent's Constructor\n",
    "Ensure Consistency in Multiple Inheritance\n",
    "\"\"\""
   ]
  },
  {
   "cell_type": "markdown",
   "id": "c31349fc-8230-4cac-82fd-ad426f4aba23",
   "metadata": {},
   "source": [
    "Ques 21- What is the significance of the __del__ method in Python?"
   ]
  },
  {
   "cell_type": "code",
   "execution_count": null,
   "id": "eb9ae6d4-5780-4afb-b007-a3313cc94381",
   "metadata": {},
   "outputs": [],
   "source": [
    "\"\"\"\n",
    "The __del__() method in Python is a  special (dunder) method known as the destuctor.\n",
    "It is automatically called when an object is about to be destroyed, usually when:\n",
    "->the object goes out of scope.\n",
    "->the reference count drops to zero\n",
    "->the program ends\n",
    "\"\"\""
   ]
  },
  {
   "cell_type": "markdown",
   "id": "c5a755d7-76c8-441e-a9d5-74fb895b9eb5",
   "metadata": {},
   "source": [
    "Ques 22- What is the difference between @staticmethod and @classmethod in Python?"
   ]
  },
  {
   "cell_type": "code",
   "execution_count": null,
   "id": "7951892a-6841-4eca-aaf7-f1a51c35ddb8",
   "metadata": {},
   "outputs": [],
   "source": [
    "\"\"\"\n",
    "Both @staticmethod and @classmethod are used to define methods inside a class that don't act on instance-level data, but they serve different\n",
    "purpose and behave differently.\n",
    "\n",
    "@staticmethod-\n",
    "does not take self or cls as the first parameter\n",
    "doesn't know anything about the class or instance\n",
    "acts like a regular function,just grouped logically inside the class\n",
    "used for utility/helper functions that are related to the class, but don't need class or instance data\n",
    "\n",
    "@classmethod\n",
    "takes cls(the class itself) as the first parameter\n",
    "can access or mofify class- level variables\n",
    "often used for factory methods that return instances of the class\n",
    "\"\"\""
   ]
  },
  {
   "cell_type": "markdown",
   "id": "bc08cba2-061d-420a-9406-a54625d7e662",
   "metadata": {},
   "source": [
    "Ques 23- How does polymorphism work in Python with inheritance?"
   ]
  },
  {
   "cell_type": "code",
   "execution_count": null,
   "id": "20b9625b-1140-45aa-9642-ce885a2aa51a",
   "metadata": {},
   "outputs": [],
   "source": [
    "\"\"\"\n",
    "Polymorphism in python allows objects of different classes(that share a common base class) to be used interchangeably, especially when they\n",
    "override the same methods.\n",
    "this is a key feature of object-oriented programming and works seamlessly with inheritance in python.\n",
    "\n",
    "working-\n",
    "You define a base class with a method\n",
    "subclasses override that method\n",
    "you can then use a common interface to call that method- and the correct version is called based on the object's actual type.\n",
    "\"\"\""
   ]
  },
  {
   "cell_type": "markdown",
   "id": "a55edc43-6c0f-4590-8378-689c75e98c21",
   "metadata": {},
   "source": [
    "Ques 24- What is method chaining in Python OOP?"
   ]
  },
  {
   "cell_type": "code",
   "execution_count": null,
   "id": "00b457c1-9e7a-4882-b8ce-d9e07b6a310c",
   "metadata": {},
   "outputs": [],
   "source": [
    "\"\"\"\n",
    "Method chaining is a programming technique where multiple methods are called in a single line, one after another, on the same object.\n",
    "Each method returns the object itself allowing the next method to be called on that same object.\n",
    "\n",
    "usage-\n",
    "makes code more concise and readble\n",
    "helps build fluent interfaces or pipelines for configuration or processing\n",
    "common in libraries like pandas, matplotlib, or in builder-style classes\n",
    "\"\"\""
   ]
  },
  {
   "cell_type": "markdown",
   "id": "5172a1bf-c4ec-47cd-b007-607159c6b04c",
   "metadata": {},
   "source": [
    "Ques 25- What is the purpose of the __call__ method in Python?"
   ]
  },
  {
   "cell_type": "code",
   "execution_count": null,
   "id": "aec9d474-b59e-49b3-bfee-b0d5bb6ec5e4",
   "metadata": {},
   "outputs": [],
   "source": [
    "\"\"\"\n",
    "The __call__() method is a special (dunder) method in python that allows an instance of a class to be called like a function.\n",
    "purpose-\n",
    "it makes objects behave like functions\n",
    "you can add custom behavior when the object is \"called\" using parentheses.\n",
    "\"\"\""
   ]
  },
  {
   "cell_type": "code",
   "execution_count": null,
   "id": "c3a7898a-90f7-4ffd-a8d5-00a331355f83",
   "metadata": {},
   "outputs": [],
   "source": []
  },
  {
   "cell_type": "code",
   "execution_count": null,
   "id": "d0339d9b-fa6b-423d-805b-49215338adfd",
   "metadata": {},
   "outputs": [],
   "source": []
  },
  {
   "cell_type": "markdown",
   "id": "b4c3921e-ec90-4ac4-9f4e-85a0e4c7dfd1",
   "metadata": {},
   "source": [
    "Practicle Questions"
   ]
  },
  {
   "cell_type": "markdown",
   "id": "c045adb1-f42a-4fc0-8207-342bc8cdcda2",
   "metadata": {},
   "source": [
    "Ques 1- Create a parent class Animal with a method speak() that prints a generic message. Create a child class Dog that overrides the speak() method to print \"Bark!\"."
   ]
  },
  {
   "cell_type": "code",
   "execution_count": 2,
   "id": "86e7a815-238c-4e8a-b770-973858a86d6c",
   "metadata": {},
   "outputs": [
    {
     "name": "stdout",
     "output_type": "stream",
     "text": [
      "This is generic message\n",
      "Bark!\n"
     ]
    }
   ],
   "source": [
    "class Animal:\n",
    "    def speak(self):\n",
    "        print(\"This is generic message\")\n",
    "\n",
    "class Dog(Animal):\n",
    "    def speak(self):\n",
    "        print(\"Bark!\")\n",
    "\n",
    "gen_msg = Animal()\n",
    "gen_msg.speak()\n",
    "\n",
    "dog = Dog()\n",
    "dog.speak()"
   ]
  },
  {
   "cell_type": "markdown",
   "id": "209aab57-4c02-441d-a8ac-6c4f7bc756c7",
   "metadata": {},
   "source": [
    "Ques 2- Write a program to create an abstract class Shape with a method area(). Derive classes Circle and Rectangle from it and implement the area() method in both."
   ]
  },
  {
   "cell_type": "code",
   "execution_count": 3,
   "id": "0e8bd078-0fe8-4883-8dcc-5e9f4630f229",
   "metadata": {},
   "outputs": [
    {
     "name": "stdout",
     "output_type": "stream",
     "text": [
      "Area of Circle: 78.54\n",
      "Area of Rectangle:24.00\n"
     ]
    }
   ],
   "source": [
    "from abc import ABC,abstractmethod\n",
    "import math\n",
    "\n",
    "class Shape(ABC):\n",
    "    @abstractmethod\n",
    "    def area(self):\n",
    "        pass\n",
    "\n",
    "class Circle(Shape):\n",
    "    def __init__(self, radius):\n",
    "        self.radius=radius\n",
    "\n",
    "    def area(self):\n",
    "        return math.pi * self.radius ** 2\n",
    "\n",
    "class Rectangle(Shape):\n",
    "    def __init__(self, width, height):\n",
    "        self.width=width\n",
    "        self.height= height\n",
    "\n",
    "    def area(self):\n",
    "        return self.width*self.height\n",
    "\n",
    "if __name__==\"__main__\":\n",
    "    circle=Circle(5)\n",
    "    rectangle=Rectangle(4,6)\n",
    "\n",
    "    print(f\"Area of Circle: {circle.area():.2f}\")\n",
    "    print(f\"Area of Rectangle:{rectangle.area():.2f}\")"
   ]
  },
  {
   "cell_type": "markdown",
   "id": "62dd72a3-874b-49b1-a191-b882813319c5",
   "metadata": {},
   "source": [
    "Ques 3- Implement a multi-level inheritance scenario where a class Vehicle has an attribute type. Derive a class Car and further derive a class ElecticCar that adds a bettery attribute."
   ]
  },
  {
   "cell_type": "code",
   "execution_count": 5,
   "id": "5b719e38-bf9c-4321-b4fa-f9883ef452a9",
   "metadata": {},
   "outputs": [
    {
     "name": "stdout",
     "output_type": "stream",
     "text": [
      "Vehicle Type:Four-wheeler\n",
      "Car Brand:Tesla\n",
      "Battery Capacity:75 kWh\n"
     ]
    }
   ],
   "source": [
    "class Vehicle:\n",
    "    def __init__(self, vehicle_type):\n",
    "        self.vehicle_type=vehicle_type\n",
    "\n",
    "    def display_info(self):\n",
    "        print(f\"Vehicle Type:{self.vehicle_type}\")\n",
    "\n",
    "class Car(Vehicle):\n",
    "    def __init__(self, vehicle_type, brand):\n",
    "        super().__init__(vehicle_type)\n",
    "        self.brand=brand\n",
    "\n",
    "    def display_info(self):\n",
    "        super().display_info()\n",
    "        print(f\"Car Brand:{self.brand}\")\n",
    "\n",
    "class ElectricCar(Car):\n",
    "    def __init__(self, vehicle_type, brand, battery_capacity):\n",
    "        super().__init__(vehicle_type, brand)\n",
    "        self.battery_capacity=battery_capacity\n",
    "\n",
    "    def display_info(self):\n",
    "        super().display_info()\n",
    "        print(f\"Battery Capacity:{self.battery_capacity} kWh\")\n",
    "\n",
    "if __name__==\"__main__\":\n",
    "    my_electric_car= ElectricCar(\"Four-wheeler\", \"Tesla\", 75)\n",
    "    my_electric_car.display_info()"
   ]
  },
  {
   "cell_type": "markdown",
   "id": "4a4d4959-0ae2-414d-813e-47c55cac8dfd",
   "metadata": {},
   "source": [
    "Ques 4- Demonstrate polymorphism by creating a base class Bird with a method fly(). Create two derived classes Sparrow and Penguin that overrides the fly() method."
   ]
  },
  {
   "cell_type": "code",
   "execution_count": 6,
   "id": "2b866e89-c615-49a8-b3bf-31aac4499eae",
   "metadata": {},
   "outputs": [
    {
     "name": "stdout",
     "output_type": "stream",
     "text": [
      "Bird is flying\n",
      "Sparrow flies high in the sky\n",
      "Penguins can't fly, they swim!\n"
     ]
    }
   ],
   "source": [
    "class Bird:\n",
    "    def fly(self):\n",
    "        print(\"Bird is flying\")\n",
    "\n",
    "class Sparrow(Bird):\n",
    "    def fly(self):\n",
    "        print(\"Sparrow flies high in the sky\")\n",
    "\n",
    "class Penguin(Bird):\n",
    "    def fly(self):\n",
    "        print(\"Penguins can't fly, they swim!\")\n",
    "\n",
    "def bird_flight(bird: Bird):\n",
    "    bird.fly()\n",
    "\n",
    "generic_bird = Bird()\n",
    "sparrow = Sparrow()\n",
    "penguin = Penguin()\n",
    "\n",
    "bird_flight(generic_bird) \n",
    "bird_flight(sparrow)   \n",
    "bird_flight(penguin)      \n"
   ]
  },
  {
   "cell_type": "markdown",
   "id": "455d87fd-bf79-4b13-a0b0-357ce920ca6c",
   "metadata": {},
   "source": [
    "Ques 5- Write a program to demonstrate encapsulation by creating a class BankAccount with private attributes balance and methods to deposit, withdraw, and check balance."
   ]
  },
  {
   "cell_type": "code",
   "execution_count": 7,
   "id": "39166ffe-f2b3-4d63-871a-8f370bab8f3e",
   "metadata": {},
   "outputs": [
    {
     "name": "stdout",
     "output_type": "stream",
     "text": [
      "Deposited: $50\n",
      "Withdrawn: $30\n",
      "Current Balance: $ 120\n",
      "Error: 'BankAccount' object has no attribute '__balance'\n",
      "Accessing private balance (not recommended): 120\n"
     ]
    }
   ],
   "source": [
    "class BankAccount:\n",
    "    def __init__(self, initial_balance=0):\n",
    "        self.__balance = initial_balance  \n",
    "    \n",
    "    def deposit(self, amount):\n",
    "        if amount > 0:\n",
    "            self.__balance += amount\n",
    "            print(f\"Deposited: ${amount}\")\n",
    "        else:\n",
    "            print(\"Invalid deposit amount!\")\n",
    "\n",
    "    \n",
    "    def withdraw(self, amount):\n",
    "        if 0 < amount <= self.__balance:\n",
    "            self.__balance -= amount\n",
    "            print(f\"Withdrawn: ${amount}\")\n",
    "        else:\n",
    "            print(\"Insufficient funds or invalid amount!\")\n",
    "\n",
    "    \n",
    "    def get_balance(self):\n",
    "        return self.__balance\n",
    "\n",
    "\n",
    "account = BankAccount(100)  \n",
    "\n",
    "account.deposit(50)        \n",
    "account.withdraw(30)       \n",
    "print(\"Current Balance: $\", account.get_balance()) \n",
    "\n",
    "\n",
    "try:\n",
    "    print(account.__balance)\n",
    "except AttributeError as e:\n",
    "    print(\"Error:\", e)\n",
    "\n",
    "\n",
    "print(\"Accessing private balance (not recommended):\", account._BankAccount__balance)\n"
   ]
  },
  {
   "cell_type": "markdown",
   "id": "81ef6beb-9f83-4b8f-8440-b2896e894a8c",
   "metadata": {},
   "source": [
    "Ques 6- Demonstrate runtime polymorphism using a method play() in a base class Intrument. Derive classes Guitar and Piano that implement their own version of play()."
   ]
  },
  {
   "cell_type": "code",
   "execution_count": 8,
   "id": "4a2613fb-6314-4053-ab37-9005b4d5230c",
   "metadata": {},
   "outputs": [
    {
     "name": "stdout",
     "output_type": "stream",
     "text": [
      "Strumming the guitar\n",
      "Playing the piano\n"
     ]
    }
   ],
   "source": [
    "\n",
    "class Instrument:\n",
    "    def play(self):\n",
    "        print(\"Playing an instrument\")\n",
    "\n",
    "class Guitar(Instrument):\n",
    "    def play(self):\n",
    "        print(\"Strumming the guitar\")\n",
    "\n",
    "class Piano(Instrument):\n",
    "    def play(self):\n",
    "        print(\"Playing the piano\")\n",
    "\n",
    "def perform(instrument: Instrument):\n",
    "    instrument.play()\n",
    "\n",
    "guitar = Guitar()\n",
    "piano = Piano()\n",
    "\n",
    "perform(guitar) \n",
    "perform(piano) \n"
   ]
  },
  {
   "cell_type": "markdown",
   "id": "616dc9e6-3884-4921-94ca-98996e242605",
   "metadata": {},
   "source": [
    "Ques 7- Create a class MathOperations with a method add_numbers() to add two numbers and a static method subtract_numbers() to subtract two numbers."
   ]
  },
  {
   "cell_type": "code",
   "execution_count": 11,
   "id": "1b6e55da-87ee-4be1-ae85-d84e5ec3e167",
   "metadata": {},
   "outputs": [
    {
     "name": "stdout",
     "output_type": "stream",
     "text": [
      "Sum: 70\n",
      "Difference: 10\n"
     ]
    }
   ],
   "source": [
    "class MathOperations:\n",
    "    \n",
    "    def add_numbers(self, a, b):\n",
    "        return a + b\n",
    "\n",
    "    \n",
    "    @staticmethod\n",
    "    def subtract_numbers(a, b):\n",
    "        return a - b\n",
    "\n",
    "math_op = MathOperations()\n",
    "\n",
    "\n",
    "sum_result = math_op.add_numbers(50, 20)\n",
    "print(\"Sum:\", sum_result) \n",
    "\n",
    "difference = MathOperations.subtract_numbers(15, 5)\n",
    "print(\"Difference:\", difference)\n"
   ]
  },
  {
   "cell_type": "markdown",
   "id": "59cbf7c4-91ec-4f16-a92e-e07d2604403f",
   "metadata": {},
   "source": [
    "Ques 8- Implement a class Person with a class method to count the total number of persons created."
   ]
  },
  {
   "cell_type": "code",
   "execution_count": 12,
   "id": "04a6dffb-1ed5-49f6-9337-e8eef00ca7d6",
   "metadata": {},
   "outputs": [
    {
     "name": "stdout",
     "output_type": "stream",
     "text": [
      "Total persons created: 3\n"
     ]
    }
   ],
   "source": [
    "class Person:\n",
    "    _count = 0\n",
    "\n",
    "    def __init__(self, name):\n",
    "        self.name = name\n",
    "        Person._count += 1  \n",
    "\n",
    "    \n",
    "    @classmethod\n",
    "    def total_persons(cls):\n",
    "        return cls._count\n",
    "\n",
    "\n",
    "p1 = Person(\"Alice\")\n",
    "p2 = Person(\"Bob\")\n",
    "p3 = Person(\"Charlie\")\n",
    "\n",
    "\n",
    "print(\"Total persons created:\", Person.total_persons()) \n"
   ]
  },
  {
   "cell_type": "markdown",
   "id": "0ed0e73c-5337-404f-9cb3-c2a8a3157b28",
   "metadata": {},
   "source": [
    "Ques 9- Write a class Fraction with attributes numerator and denominator. Override the str method to display the fraction as \"numerator/denomenator\"."
   ]
  },
  {
   "cell_type": "code",
   "execution_count": 14,
   "id": "b8e8b3c0-7b01-45e0-b641-a3e124c31853",
   "metadata": {},
   "outputs": [
    {
     "name": "stdout",
     "output_type": "stream",
     "text": [
      "2/5\n",
      "7/9\n"
     ]
    }
   ],
   "source": [
    "class Fraction:\n",
    "    def __init__(self, numerator, denominator):\n",
    "        if denominator == 0:\n",
    "            raise ValueError(\"Denominator cannot be zero.\")\n",
    "        self.numerator = numerator\n",
    "        self.denominator = denominator\n",
    "\n",
    "    def __str__(self):\n",
    "        return f\"{self.numerator}/{self.denominator}\"\n",
    "\n",
    "f1 = Fraction(2, 5)\n",
    "f2 = Fraction(7, 9)\n",
    "\n",
    "print(f1)\n",
    "print(f2) \n"
   ]
  },
  {
   "cell_type": "markdown",
   "id": "49b7f025-a415-4a29-bbcd-ca934eea1919",
   "metadata": {},
   "source": [
    "Ques 10- Demostrate operator overloading by creating a class Vector and overriding the add method to add two vectors."
   ]
  },
  {
   "cell_type": "code",
   "execution_count": 15,
   "id": "61f4e20a-2966-41f8-9fd2-88e84f773ff3",
   "metadata": {},
   "outputs": [
    {
     "name": "stdout",
     "output_type": "stream",
     "text": [
      "v1: (2, 3)\n",
      "v2: (4, 5)\n",
      "v1 + v2 = (6, 8)\n"
     ]
    }
   ],
   "source": [
    "class Vector:\n",
    "    def __init__(self, x, y):\n",
    "        self.x = x\n",
    "        self.y = y\n",
    "\n",
    "    def __add__(self, other):\n",
    "        if not isinstance(other, Vector):\n",
    "            return NotImplemented\n",
    "        return Vector(self.x + other.x, self.y + other.y)\n",
    "\n",
    "    # String representation\n",
    "    def __str__(self):\n",
    "        return f\"({self.x}, {self.y})\"\n",
    "v1 = Vector(2, 3)\n",
    "v2 = Vector(4, 5)\n",
    "v3 = v1 + v2  \n",
    "\n",
    "print(\"v1:\", v1) \n",
    "print(\"v2:\", v2)\n",
    "print(\"v1 + v2 =\", v3) \n"
   ]
  },
  {
   "cell_type": "markdown",
   "id": "819a45b3-b6a7-4f4e-8678-289ede598e53",
   "metadata": {},
   "source": [
    "Ques 11- Create a class Person with attributes name and age. Add a method greet() that prints \"Hello, my name is {name} and i am {age} years old.\""
   ]
  },
  {
   "cell_type": "code",
   "execution_count": 18,
   "id": "717e1437-c514-44d8-a33c-d0dcfddb01b5",
   "metadata": {},
   "outputs": [
    {
     "name": "stdout",
     "output_type": "stream",
     "text": [
      "Hello, my name is Padam and I am 31 years old.\n",
      "Hello, my name is Raj and I am 30 years old.\n"
     ]
    }
   ],
   "source": [
    "class Person:\n",
    "    def __init__(self, name, age):\n",
    "        self.name = name\n",
    "        self.age = age\n",
    "\n",
    "    def greet(self):\n",
    "        print(f\"Hello, my name is {self.name} and I am {self.age} years old.\")\n",
    "\n",
    "p1 = Person(\"Padam\", 31)\n",
    "p2 = Person(\"Raj\", 30)\n",
    "\n",
    "p1.greet() \n",
    "p2.greet() \n"
   ]
  },
  {
   "cell_type": "markdown",
   "id": "17823e17-54ca-4468-b85e-862b7239c75b",
   "metadata": {},
   "source": [
    "Ques 12- Implement a class Student with attributes names and grades. Create a method average_grade() to compute the average of the grades."
   ]
  },
  {
   "cell_type": "code",
   "execution_count": 29,
   "id": "1c72655d-f299-4dd1-ad16-233133049d01",
   "metadata": {},
   "outputs": [
    {
     "name": "stdout",
     "output_type": "stream",
     "text": [
      "Padam's average grade: 84.33\n",
      "Raj's average grade: 90.00\n"
     ]
    }
   ],
   "source": [
    "class Student:\n",
    "    def __init__(self, name, grades):\n",
    "        self.name = name\n",
    "        self.grades = grades  \n",
    "\n",
    "    def average_grade(self):\n",
    "        if not self.grades:\n",
    "            return 0  \n",
    "        return sum(self.grades) / len(self.grades)\n",
    "\n",
    "s1 = Student(\"Padam\", [85, 90, 78])\n",
    "s2 = Student(\"Raj\", [92, 88])\n",
    "\n",
    "print(f\"{s1.name}'s average grade: {s1.average_grade():.2f}\") \n",
    "print(f\"{s2.name}'s average grade: {s2.average_grade():.2f}\") \n"
   ]
  },
  {
   "cell_type": "markdown",
   "id": "96ac313d-3fca-46c9-9266-87ae140e0a03",
   "metadata": {},
   "source": [
    "Ques 13- Create a class Rectangle with methods set_dimensions() to set  the dimensions and area() to calculate the area."
   ]
  },
  {
   "cell_type": "code",
   "execution_count": 20,
   "id": "f1f6cd20-7088-4518-a26d-88114e1c46f4",
   "metadata": {},
   "outputs": [
    {
     "name": "stdout",
     "output_type": "stream",
     "text": [
      "Area of rectangle: 15\n"
     ]
    }
   ],
   "source": [
    "class Rectangle:\n",
    "    def __init__(self):\n",
    "        self.length = 0\n",
    "        self.width = 0\n",
    "\n",
    "    \n",
    "    def set_dimensions(self, length, width):\n",
    "        if length <= 0 or width <= 0:\n",
    "            raise ValueError(\"Length and width must be positive numbers.\")\n",
    "        self.length = length\n",
    "        self.width = width\n",
    "\n",
    "    # Method to calculate area\n",
    "    def area(self):\n",
    "        return self.length * self.width\n",
    "\n",
    "\n",
    "rect = Rectangle()\n",
    "rect.set_dimensions(5, 3)\n",
    "\n",
    "print(\"Area of rectangle:\", rect.area()) \n"
   ]
  },
  {
   "cell_type": "markdown",
   "id": "9a5f24a8-8de9-48ba-a6ac-386f1a687380",
   "metadata": {},
   "source": [
    "Ques 14- Create a class Employee with a method calculate_salary() that computes the salary based on hours worked and hourly rate. Create a derived class Manager that adds a bonus to the salary."
   ]
  },
  {
   "cell_type": "code",
   "execution_count": 22,
   "id": "9e116277-e9ea-43f5-8feb-0ab4d5423cee",
   "metadata": {},
   "outputs": [
    {
     "name": "stdout",
     "output_type": "stream",
     "text": [
      "Padam's salary: Rs.800\n",
      "Raj's salary: Rs.1700\n"
     ]
    }
   ],
   "source": [
    "class Employee:\n",
    "    def __init__(self, name, hours_worked, hourly_rate):\n",
    "        self.name = name\n",
    "        self.hours_worked = hours_worked\n",
    "        self.hourly_rate = hourly_rate\n",
    "\n",
    "    def calculate_salary(self):\n",
    "        return self.hours_worked * self.hourly_rate\n",
    "\n",
    "class Manager(Employee):\n",
    "    def __init__(self, name, hours_worked, hourly_rate, bonus):\n",
    "        super().__init__(name, hours_worked, hourly_rate)\n",
    "        self.bonus = bonus\n",
    "\n",
    "    def calculate_salary(self):\n",
    "        base_salary = super().calculate_salary()\n",
    "        return base_salary + self.bonus\n",
    "\n",
    "# ---- Testing the classes ----\n",
    "emp = Employee(\"Padam\", 40, 20)\n",
    "mgr = Manager(\"Raj\", 40, 30, 500)\n",
    "\n",
    "print(f\"{emp.name}'s salary: Rs.{emp.calculate_salary()}\") \n",
    "print(f\"{mgr.name}'s salary: Rs.{mgr.calculate_salary()}\")\n"
   ]
  },
  {
   "cell_type": "markdown",
   "id": "d20877c1-6af7-459c-9a59-b2091a910e20",
   "metadata": {},
   "source": [
    "Ques 15- Create a class Product with attributes name, price and quantity. Implement a method total_price() that calculates the total price of the product."
   ]
  },
  {
   "cell_type": "code",
   "execution_count": 23,
   "id": "28ca43b5-e5a8-4733-afe8-33f316f03653",
   "metadata": {},
   "outputs": [
    {
     "name": "stdout",
     "output_type": "stream",
     "text": [
      "Total price for 3 Laptops: Rs.3600\n"
     ]
    }
   ],
   "source": [
    "class Product:\n",
    "    def __init__(self, name, price, quantity):\n",
    "        self.name = name\n",
    "        self.price = price\n",
    "        self.quantity = quantity\n",
    "\n",
    "    def total_price(self):\n",
    "        return self.price * self.quantity\n",
    "\n",
    "\n",
    "p = Product(\"Laptop\", 1200, 3)\n",
    "print(f\"Total price for {p.quantity} {p.name}s: Rs.{p.total_price()}\")\n"
   ]
  },
  {
   "cell_type": "markdown",
   "id": "1b51f8a8-5625-496b-b387-fb7aebcb514f",
   "metadata": {},
   "source": [
    "Ques 16- Create a class Animal with an abstract method sound(). Create two derived classes Cow and Sheep that implement the sound() method."
   ]
  },
  {
   "cell_type": "code",
   "execution_count": 24,
   "id": "a46a9ec1-571b-411e-8e92-58bb44c3340e",
   "metadata": {},
   "outputs": [
    {
     "name": "stdout",
     "output_type": "stream",
     "text": [
      "Cow says: Moo\n",
      "Sheep says: Baa\n"
     ]
    }
   ],
   "source": [
    "from abc import ABC, abstractmethod\n",
    "\n",
    "class Animal(ABC):\n",
    "    @abstractmethod\n",
    "    def sound(self):\n",
    "        pass  \n",
    "\n",
    "class Cow(Animal):\n",
    "    def sound(self):\n",
    "        return \"Moo\"\n",
    "\n",
    "class Sheep(Animal):\n",
    "    def sound(self):\n",
    "        return \"Baa\"\n",
    "\n",
    "\n",
    "cow = Cow()\n",
    "sheep = Sheep()\n",
    "\n",
    "print(\"Cow says:\", cow.sound())     \n",
    "print(\"Sheep says:\", sheep.sound()) "
   ]
  },
  {
   "cell_type": "markdown",
   "id": "1aea2c0f-cf02-4e51-802e-cf52c3ffc688",
   "metadata": {},
   "source": [
    "Ques 17- Create a class Book with attributes title, author and year_published. Add a method get_book_info() that returns a formatted string with the book's details."
   ]
  },
  {
   "cell_type": "code",
   "execution_count": 26,
   "id": "3b10981e-ba06-4c62-8018-7e3a48ede52a",
   "metadata": {},
   "outputs": [
    {
     "name": "stdout",
     "output_type": "stream",
     "text": [
      "'Padam's Autobiography' by Padam Raj, published in 2025\n"
     ]
    }
   ],
   "source": [
    "class Book:\n",
    "    def __init__(self, title, author, year_published):\n",
    "        self.title = title\n",
    "        self.author = author\n",
    "        self.year_published = year_published\n",
    "\n",
    "    def get_book_info(self):\n",
    "        return f\"'{self.title}' by {self.author}, published in {self.year_published}\"\n",
    "\n",
    "\n",
    "book = Book(\"Padam's Autobiography\", \"Padam Raj\", 2025)\n",
    "print(book.get_book_info())\n"
   ]
  },
  {
   "cell_type": "markdown",
   "id": "cd0e70e4-c419-4c3b-9636-678c006f4b19",
   "metadata": {},
   "source": [
    "Ques 18- Create a class House with attributes address and price. Create a derived class Mansion that adds an attribute number_of_rooms."
   ]
  },
  {
   "cell_type": "code",
   "execution_count": 28,
   "id": "e2436543-6418-4a37-acd0-3e4ed8bef6bb",
   "metadata": {},
   "outputs": [
    {
     "name": "stdout",
     "output_type": "stream",
     "text": [
      "House Address: Panchkula, Haryana, Price: Rs.10000000\n",
      "Mansion Address: Chandigarh, Price: Rs.20000000, Rooms: 10\n"
     ]
    }
   ],
   "source": [
    "class House:\n",
    "    def __init__(self, address, price):\n",
    "        self.address = address\n",
    "        self.price = price\n",
    "\n",
    "class Mansion(House):\n",
    "    def __init__(self, address, price, number_of_rooms):\n",
    "        super().__init__(address, price)\n",
    "        self.number_of_rooms = number_of_rooms\n",
    "\n",
    "house = House(\"Panchkula, Haryana\", 10000000)\n",
    "mansion = Mansion(\"Chandigarh\", 20000000, 10)\n",
    "\n",
    "print(f\"House Address: {house.address}, Price: Rs.{house.price}\")\n",
    "print(f\"Mansion Address: {mansion.address}, Price: Rs.{mansion.price}, Rooms: {mansion.number_of_rooms}\")\n"
   ]
  },
  {
   "cell_type": "code",
   "execution_count": null,
   "id": "770fc235-b137-44e9-8986-ea184ccfe6b8",
   "metadata": {},
   "outputs": [],
   "source": []
  }
 ],
 "metadata": {
  "kernelspec": {
   "display_name": "Python 3 (ipykernel)",
   "language": "python",
   "name": "python3"
  },
  "language_info": {
   "codemirror_mode": {
    "name": "ipython",
    "version": 3
   },
   "file_extension": ".py",
   "mimetype": "text/x-python",
   "name": "python",
   "nbconvert_exporter": "python",
   "pygments_lexer": "ipython3",
   "version": "3.13.4"
  }
 },
 "nbformat": 4,
 "nbformat_minor": 5
}
